{
  "nbformat": 4,
  "nbformat_minor": 5,
  "metadata": {
    "kernelspec": {
      "display_name": "Python 3",
      "language": "python",
      "name": "python3"
    },
    "language_info": {
      "codemirror_mode": {
        "name": "ipython",
        "version": 3
      },
      "file_extension": ".py",
      "mimetype": "text/x-python",
      "name": "python",
      "nbconvert_exporter": "python",
      "pygments_lexer": "ipython3",
      "version": "3.8.5"
    },
    "colab": {
      "name": "Technical Assessment.ipynb",
      "provenance": [],
      "include_colab_link": true
    }
  },
  "cells": [
    {
      "cell_type": "markdown",
      "metadata": {
        "id": "view-in-github",
        "colab_type": "text"
      },
      "source": [
        "<a href=\"https://colab.research.google.com/github/Fath-Elmisbah/Mungala/blob/master/Stock%20data%20analysis.ipynb\" target=\"_parent\"><img src=\"https://colab.research.google.com/assets/colab-badge.svg\" alt=\"Open In Colab\"/></a>"
      ]
    },
    {
      "cell_type": "markdown",
      "metadata": {
        "id": "Drp-O3XZ-R_s"
      },
      "source": [
        "### Import Library"
      ],
      "id": "Drp-O3XZ-R_s"
    },
    {
      "cell_type": "markdown",
      "metadata": {
        "id": "C9hgOSRu-R_w"
      },
      "source": [
        "We've pre-loaded some basic libraries, but you may import other libraries for your analysis."
      ],
      "id": "C9hgOSRu-R_w"
    },
    {
      "cell_type": "code",
      "metadata": {
        "id": "tULVpwzM-R_x"
      },
      "source": [
        "import pandas as pd\n",
        "import numpy as np\n",
        "import matplotlib.pyplot as plt\n",
        "from sklearn.linear_model import LinearRegression"
      ],
      "id": "tULVpwzM-R_x",
      "execution_count": 127,
      "outputs": []
    },
    {
      "cell_type": "markdown",
      "metadata": {
        "id": "BHV3vd6R-R_y"
      },
      "source": [
        "### Stock Analysis"
      ],
      "id": "BHV3vd6R-R_y"
    },
    {
      "cell_type": "markdown",
      "metadata": {
        "id": "erUF1mMM-R_y"
      },
      "source": [
        "In this technical assessment, you are given an empirical exercise to analyze Apple's stock (AAPL). Relevant data files can be found in the 'data' folder, please do not substitute or import other data."
      ],
      "id": "erUF1mMM-R_y"
    },
    {
      "cell_type": "markdown",
      "metadata": {
        "id": "AAfthVKc-R_z"
      },
      "source": [
        "**Follow the hints and instructions to complete the functions in class stock_analysis.**"
      ],
      "id": "AAfthVKc-R_z"
    },
    {
      "cell_type": "code",
      "metadata": {
        "id": "1y1C2mzH-R_z"
      },
      "source": [
        "class stock_analysis:\n",
        "    \n",
        "    def __init__(self, df):\n",
        "        self.df = df\n",
        "\n",
        "    def visualization(self, column_name, plot_name):\n",
        "        \"\"\"\n",
        "        Create a visualization with x-axis as Date, y-axis as specified column, and a clear plot name.\n",
        "        \n",
        "        :param column_name: str\n",
        "        :param plot_name: str\n",
        "        \"\"\"\n",
        "        self.df[column_name].plot(grid=True, title=plot_name)\n",
        "\n",
        "    def preprocess_data(self):\n",
        "        \"\"\"\n",
        "        Clean data, data checks, missing data, outliers etc.\n",
        "        \n",
        "        :return: pre-processed data\n",
        "        \"\"\"\n",
        "        preprocessed_data = self.df.copy()\n",
        "        preprocessed_data = preprocessed_data.abs()\n",
        "        close = preprocessed_data['Adj Close']\n",
        "        close[np.abs(close-close.mean()) >= (1.5*close.std())] = np.nan # oiutliers set to nan\n",
        "        preprocessed_data.fillna(method='ffill',inplace=True) # fill nan with the next row value\n",
        "        preprocessed_data.fillna(method='bfill',inplace=True) # fill the remaining nan (The last one if applicable) using the previous value\n",
        "        return preprocessed_data\n",
        "    \n",
        "    def calculate_return(self):\n",
        "        \"\"\"\n",
        "        Calculate stock return. The calculated return should be saved as column 'Return' in the dataframe.\n",
        "        \"\"\"\n",
        "        self.df['Return'] = self.df['Adj Close']/self.df['Adj Close'].shift(1)\n",
        "        self.df['Return'][0] = self.df['Return'][1] # estimate first day return to the next one\n",
        "        return self.df.head()\n",
        "    \n",
        "    def calculate_annualized_return(self):\n",
        "        \"\"\"\n",
        "        Calculate annualized return.\n",
        "        Formula: ((1+stock's total return over the period)**(1/years))-1\n",
        "        \n",
        "        :return: stock's annualized return\n",
        "        \"\"\"\n",
        "        years = self.df.index[-1].year - self.df.index[0].year\n",
        "        annualized_ret = ((1 + self.df['Return'].sum())**(1/years)) - 1\n",
        "\n",
        "        return annualized_ret\n",
        "    \n",
        "    def calculate_annualized_volatility(self):\n",
        "        \"\"\"\n",
        "        Calculate annualized volatility.\n",
        "        Formula: (stock's historical standard deviation)*252**0.5\n",
        "        \n",
        "        :return: stock's annualized volatility\n",
        "        \"\"\"\n",
        "        annualized_std = self.df['Return'].std()*252**.5\n",
        "        return annualized_std"
      ],
      "id": "1y1C2mzH-R_z",
      "execution_count": 743,
      "outputs": []
    },
    {
      "cell_type": "markdown",
      "metadata": {
        "id": "J44Su3RT-R_0"
      },
      "source": [
        "#### Import Data"
      ],
      "id": "J44Su3RT-R_0"
    },
    {
      "cell_type": "code",
      "metadata": {
        "id": "PEZQB4BJ-R_1"
      },
      "source": [
        "aapl_df = pd.read_csv('data/AAPL.csv', parse_dates=['Date'])\n",
        "aapl_df.set_index('Date', inplace=True)"
      ],
      "id": "PEZQB4BJ-R_1",
      "execution_count": 744,
      "outputs": []
    },
    {
      "cell_type": "code",
      "metadata": {
        "colab": {
          "base_uri": "https://localhost:8080/",
          "height": 235
        },
        "id": "G-B_sBPR-R_1",
        "outputId": "f8f4c126-2ba7-46c9-a94e-50459bbca0db"
      },
      "source": [
        "aapl_df.head()"
      ],
      "id": "G-B_sBPR-R_1",
      "execution_count": 745,
      "outputs": [
        {
          "output_type": "execute_result",
          "data": {
            "text/html": [
              "<div>\n",
              "<style scoped>\n",
              "    .dataframe tbody tr th:only-of-type {\n",
              "        vertical-align: middle;\n",
              "    }\n",
              "\n",
              "    .dataframe tbody tr th {\n",
              "        vertical-align: top;\n",
              "    }\n",
              "\n",
              "    .dataframe thead th {\n",
              "        text-align: right;\n",
              "    }\n",
              "</style>\n",
              "<table border=\"1\" class=\"dataframe\">\n",
              "  <thead>\n",
              "    <tr style=\"text-align: right;\">\n",
              "      <th></th>\n",
              "      <th>Open</th>\n",
              "      <th>High</th>\n",
              "      <th>Low</th>\n",
              "      <th>Adj Close</th>\n",
              "      <th>Volume</th>\n",
              "    </tr>\n",
              "    <tr>\n",
              "      <th>Date</th>\n",
              "      <th></th>\n",
              "      <th></th>\n",
              "      <th></th>\n",
              "      <th></th>\n",
              "      <th></th>\n",
              "    </tr>\n",
              "  </thead>\n",
              "  <tbody>\n",
              "    <tr>\n",
              "      <th>2016-09-01</th>\n",
              "      <td>26.535000</td>\n",
              "      <td>26.700001</td>\n",
              "      <td>26.405001</td>\n",
              "      <td>25.023932</td>\n",
              "      <td>106806000</td>\n",
              "    </tr>\n",
              "    <tr>\n",
              "      <th>2016-09-02</th>\n",
              "      <td>26.924999</td>\n",
              "      <td>27.000000</td>\n",
              "      <td>26.705000</td>\n",
              "      <td>25.258389</td>\n",
              "      <td>107210000</td>\n",
              "    </tr>\n",
              "    <tr>\n",
              "      <th>2016-09-06</th>\n",
              "      <td>26.975000</td>\n",
              "      <td>27.075001</td>\n",
              "      <td>26.877501</td>\n",
              "      <td>25.251356</td>\n",
              "      <td>107521600</td>\n",
              "    </tr>\n",
              "    <tr>\n",
              "      <th>2016-09-07</th>\n",
              "      <td>26.957500</td>\n",
              "      <td>27.190001</td>\n",
              "      <td>26.767500</td>\n",
              "      <td>25.406096</td>\n",
              "      <td>169457200</td>\n",
              "    </tr>\n",
              "    <tr>\n",
              "      <th>2016-09-08</th>\n",
              "      <td>26.812500</td>\n",
              "      <td>26.817499</td>\n",
              "      <td>26.309999</td>\n",
              "      <td>24.740231</td>\n",
              "      <td>212008000</td>\n",
              "    </tr>\n",
              "  </tbody>\n",
              "</table>\n",
              "</div>"
            ],
            "text/plain": [
              "                 Open       High        Low  Adj Close     Volume\n",
              "Date                                                             \n",
              "2016-09-01  26.535000  26.700001  26.405001  25.023932  106806000\n",
              "2016-09-02  26.924999  27.000000  26.705000  25.258389  107210000\n",
              "2016-09-06  26.975000  27.075001  26.877501  25.251356  107521600\n",
              "2016-09-07  26.957500  27.190001  26.767500  25.406096  169457200\n",
              "2016-09-08  26.812500  26.817499  26.309999  24.740231  212008000"
            ]
          },
          "metadata": {},
          "execution_count": 745
        }
      ]
    },
    {
      "cell_type": "markdown",
      "metadata": {
        "id": "AAMvDWh6-R_2"
      },
      "source": [
        "#### AAPL - Stock Analysis"
      ],
      "id": "AAMvDWh6-R_2"
    },
    {
      "cell_type": "code",
      "metadata": {
        "id": "6lxAkCco-R_2"
      },
      "source": [
        "aapl = stock_analysis(aapl_df)"
      ],
      "id": "6lxAkCco-R_2",
      "execution_count": 746,
      "outputs": []
    },
    {
      "cell_type": "markdown",
      "metadata": {
        "id": "4wFxDasL-R_2"
      },
      "source": [
        "##### Task 1: Visualize AAPL's historical stock price. What are your observations? How would you handle the data?"
      ],
      "id": "4wFxDasL-R_2"
    },
    {
      "cell_type": "markdown",
      "metadata": {
        "id": "xcl3q8JG-R_3"
      },
      "source": [
        "Ans:"
      ],
      "id": "xcl3q8JG-R_3"
    },
    {
      "cell_type": "code",
      "metadata": {
        "colab": {
          "base_uri": "https://localhost:8080/",
          "height": 285
        },
        "id": "8cCwvIP3-R_3",
        "outputId": "aac504e6-734b-4e5f-eaf5-b274b0f5b2e0"
      },
      "source": [
        "aapl.visualization('Adj Close','Close')"
      ],
      "id": "8cCwvIP3-R_3",
      "execution_count": 747,
      "outputs": [
        {
          "output_type": "display_data",
          "data": {
            "image/png": "[encoded data removed]",
            "text/plain": [
              "<Figure size 432x288 with 1 Axes>"
            ]
          },
          "metadata": {
            "needs_background": "light"
          }
        }
      ]
    },
    {
      "cell_type": "markdown",
      "metadata": {
        "id": "SOOTjBdG-R_3"
      },
      "source": [
        "##### Task 2: Pre-process the data to resolve any data errors (Clean data, data checks, missing data, outliers etc)"
      ],
      "id": "SOOTjBdG-R_3"
    },
    {
      "cell_type": "code",
      "metadata": {
        "id": "R8hiWL9H-R_3"
      },
      "source": [
        "aapl_processed_df = aapl.preprocess_data()"
      ],
      "id": "R8hiWL9H-R_3",
      "execution_count": 748,
      "outputs": []
    },
    {
      "cell_type": "code",
      "metadata": {
        "colab": {
          "base_uri": "https://localhost:8080/",
          "height": 235
        },
        "id": "XdO97fUR-R_4",
        "outputId": "003771d3-17ab-44a5-823d-9eaa4fb2d387"
      },
      "source": [
        "aapl_processed_df.head()"
      ],
      "id": "XdO97fUR-R_4",
      "execution_count": 749,
      "outputs": [
        {
          "output_type": "execute_result",
          "data": {
            "text/html": [
              "<div>\n",
              "<style scoped>\n",
              "    .dataframe tbody tr th:only-of-type {\n",
              "        vertical-align: middle;\n",
              "    }\n",
              "\n",
              "    .dataframe tbody tr th {\n",
              "        vertical-align: top;\n",
              "    }\n",
              "\n",
              "    .dataframe thead th {\n",
              "        text-align: right;\n",
              "    }\n",
              "</style>\n",
              "<table border=\"1\" class=\"dataframe\">\n",
              "  <thead>\n",
              "    <tr style=\"text-align: right;\">\n",
              "      <th></th>\n",
              "      <th>Open</th>\n",
              "      <th>High</th>\n",
              "      <th>Low</th>\n",
              "      <th>Adj Close</th>\n",
              "      <th>Volume</th>\n",
              "    </tr>\n",
              "    <tr>\n",
              "      <th>Date</th>\n",
              "      <th></th>\n",
              "      <th></th>\n",
              "      <th></th>\n",
              "      <th></th>\n",
              "      <th></th>\n",
              "    </tr>\n",
              "  </thead>\n",
              "  <tbody>\n",
              "    <tr>\n",
              "      <th>2016-09-01</th>\n",
              "      <td>26.535000</td>\n",
              "      <td>26.700001</td>\n",
              "      <td>26.405001</td>\n",
              "      <td>25.023932</td>\n",
              "      <td>106806000.0</td>\n",
              "    </tr>\n",
              "    <tr>\n",
              "      <th>2016-09-02</th>\n",
              "      <td>26.924999</td>\n",
              "      <td>27.000000</td>\n",
              "      <td>26.705000</td>\n",
              "      <td>25.258389</td>\n",
              "      <td>107210000.0</td>\n",
              "    </tr>\n",
              "    <tr>\n",
              "      <th>2016-09-06</th>\n",
              "      <td>26.975000</td>\n",
              "      <td>27.075001</td>\n",
              "      <td>26.877501</td>\n",
              "      <td>25.251356</td>\n",
              "      <td>107521600.0</td>\n",
              "    </tr>\n",
              "    <tr>\n",
              "      <th>2016-09-07</th>\n",
              "      <td>26.957500</td>\n",
              "      <td>27.190001</td>\n",
              "      <td>26.767500</td>\n",
              "      <td>25.406096</td>\n",
              "      <td>169457200.0</td>\n",
              "    </tr>\n",
              "    <tr>\n",
              "      <th>2016-09-08</th>\n",
              "      <td>26.812500</td>\n",
              "      <td>26.817499</td>\n",
              "      <td>26.309999</td>\n",
              "      <td>24.740231</td>\n",
              "      <td>212008000.0</td>\n",
              "    </tr>\n",
              "  </tbody>\n",
              "</table>\n",
              "</div>"
            ],
            "text/plain": [
              "                 Open       High        Low  Adj Close       Volume\n",
              "Date                                                               \n",
              "2016-09-01  26.535000  26.700001  26.405001  25.023932  106806000.0\n",
              "2016-09-02  26.924999  27.000000  26.705000  25.258389  107210000.0\n",
              "2016-09-06  26.975000  27.075001  26.877501  25.251356  107521600.0\n",
              "2016-09-07  26.957500  27.190001  26.767500  25.406096  169457200.0\n",
              "2016-09-08  26.812500  26.817499  26.309999  24.740231  212008000.0"
            ]
          },
          "metadata": {},
          "execution_count": 749
        }
      ]
    },
    {
      "cell_type": "code",
      "metadata": {
        "colab": {
          "base_uri": "https://localhost:8080/"
        },
        "id": "hyVI1APq-R_4",
        "outputId": "7e58f669-0df0-4064-c6e7-0a7f335e74fc"
      },
      "source": [
        "aapl_processed_df.shape"
      ],
      "id": "hyVI1APq-R_4",
      "execution_count": 750,
      "outputs": [
        {
          "output_type": "execute_result",
          "data": {
            "text/plain": [
              "(1278, 5)"
            ]
          },
          "metadata": {},
          "execution_count": 750
        }
      ]
    },
    {
      "cell_type": "code",
      "metadata": {
        "id": "8vnerrQa-R_4"
      },
      "source": [
        "aapl = stock_analysis(aapl_processed_df)"
      ],
      "id": "8vnerrQa-R_4",
      "execution_count": 751,
      "outputs": []
    },
    {
      "cell_type": "markdown",
      "metadata": {
        "id": "88uhHejB-R_4"
      },
      "source": [
        "##### Task 3: Visualize the historical stock price again. Does it make more sense now?"
      ],
      "id": "88uhHejB-R_4"
    },
    {
      "cell_type": "code",
      "metadata": {
        "colab": {
          "base_uri": "https://localhost:8080/",
          "height": 285
        },
        "id": "Vsher6cz-R_5",
        "outputId": "c0677d4b-0983-4593-c1ae-9de3a214af4d"
      },
      "source": [
        "aapl.visualization('Adj Close','Close')"
      ],
      "id": "Vsher6cz-R_5",
      "execution_count": 752,
      "outputs": [
        {
          "output_type": "display_data",
          "data": {
            "image/png": "[encoded data removed]",
            "text/plain": [
              "<Figure size 432x288 with 1 Axes>"
            ]
          },
          "metadata": {
            "needs_background": "light"
          }
        }
      ]
    },
    {
      "cell_type": "markdown",
      "metadata": {
        "id": "10mCtPJ7-R_5"
      },
      "source": [
        "##### Task 4: Calculate AAPL's historical return and visualize it"
      ],
      "id": "10mCtPJ7-R_5"
    },
    {
      "cell_type": "code",
      "metadata": {
        "id": "IXE4aA3r-R_5",
        "colab": {
          "base_uri": "https://localhost:8080/",
          "height": 235
        },
        "outputId": "b58d917c-686a-4349-ac58-7f17effc260b"
      },
      "source": [
        "aapl.calculate_return()"
      ],
      "id": "IXE4aA3r-R_5",
      "execution_count": 753,
      "outputs": [
        {
          "output_type": "execute_result",
          "data": {
            "text/html": [
              "<div>\n",
              "<style scoped>\n",
              "    .dataframe tbody tr th:only-of-type {\n",
              "        vertical-align: middle;\n",
              "    }\n",
              "\n",
              "    .dataframe tbody tr th {\n",
              "        vertical-align: top;\n",
              "    }\n",
              "\n",
              "    .dataframe thead th {\n",
              "        text-align: right;\n",
              "    }\n",
              "</style>\n",
              "<table border=\"1\" class=\"dataframe\">\n",
              "  <thead>\n",
              "    <tr style=\"text-align: right;\">\n",
              "      <th></th>\n",
              "      <th>Open</th>\n",
              "      <th>High</th>\n",
              "      <th>Low</th>\n",
              "      <th>Adj Close</th>\n",
              "      <th>Volume</th>\n",
              "      <th>Return</th>\n",
              "    </tr>\n",
              "    <tr>\n",
              "      <th>Date</th>\n",
              "      <th></th>\n",
              "      <th></th>\n",
              "      <th></th>\n",
              "      <th></th>\n",
              "      <th></th>\n",
              "      <th></th>\n",
              "    </tr>\n",
              "  </thead>\n",
              "  <tbody>\n",
              "    <tr>\n",
              "      <th>2016-09-01</th>\n",
              "      <td>26.535000</td>\n",
              "      <td>26.700001</td>\n",
              "      <td>26.405001</td>\n",
              "      <td>25.023932</td>\n",
              "      <td>106806000.0</td>\n",
              "      <td>1.009369</td>\n",
              "    </tr>\n",
              "    <tr>\n",
              "      <th>2016-09-02</th>\n",
              "      <td>26.924999</td>\n",
              "      <td>27.000000</td>\n",
              "      <td>26.705000</td>\n",
              "      <td>25.258389</td>\n",
              "      <td>107210000.0</td>\n",
              "      <td>1.009369</td>\n",
              "    </tr>\n",
              "    <tr>\n",
              "      <th>2016-09-06</th>\n",
              "      <td>26.975000</td>\n",
              "      <td>27.075001</td>\n",
              "      <td>26.877501</td>\n",
              "      <td>25.251356</td>\n",
              "      <td>107521600.0</td>\n",
              "      <td>0.999722</td>\n",
              "    </tr>\n",
              "    <tr>\n",
              "      <th>2016-09-07</th>\n",
              "      <td>26.957500</td>\n",
              "      <td>27.190001</td>\n",
              "      <td>26.767500</td>\n",
              "      <td>25.406096</td>\n",
              "      <td>169457200.0</td>\n",
              "      <td>1.006128</td>\n",
              "    </tr>\n",
              "    <tr>\n",
              "      <th>2016-09-08</th>\n",
              "      <td>26.812500</td>\n",
              "      <td>26.817499</td>\n",
              "      <td>26.309999</td>\n",
              "      <td>24.740231</td>\n",
              "      <td>212008000.0</td>\n",
              "      <td>0.973791</td>\n",
              "    </tr>\n",
              "  </tbody>\n",
              "</table>\n",
              "</div>"
            ],
            "text/plain": [
              "                 Open       High        Low  Adj Close       Volume    Return\n",
              "Date                                                                         \n",
              "2016-09-01  26.535000  26.700001  26.405001  25.023932  106806000.0  1.009369\n",
              "2016-09-02  26.924999  27.000000  26.705000  25.258389  107210000.0  1.009369\n",
              "2016-09-06  26.975000  27.075001  26.877501  25.251356  107521600.0  0.999722\n",
              "2016-09-07  26.957500  27.190001  26.767500  25.406096  169457200.0  1.006128\n",
              "2016-09-08  26.812500  26.817499  26.309999  24.740231  212008000.0  0.973791"
            ]
          },
          "metadata": {},
          "execution_count": 753
        }
      ]
    },
    {
      "cell_type": "code",
      "metadata": {
        "id": "oPHIAuI--R_5",
        "colab": {
          "base_uri": "https://localhost:8080/",
          "height": 285
        },
        "outputId": "1173a3ca-f653-4cf7-818a-7faa4f19438b"
      },
      "source": [
        "aapl.visualization('Return','Return')"
      ],
      "id": "oPHIAuI--R_5",
      "execution_count": 754,
      "outputs": [
        {
          "output_type": "display_data",
          "data": {
            "image/png": "[encoded data removed]",
            "text/plain": [
              "<Figure size 432x288 with 1 Axes>"
            ]
          },
          "metadata": {
            "needs_background": "light"
          }
        }
      ]
    },
    {
      "cell_type": "markdown",
      "metadata": {
        "id": "R-jb13Pu-R_5"
      },
      "source": [
        "##### Task 5: Calculate AAPL's historical annualized return and annualized volatility"
      ],
      "id": "R-jb13Pu-R_5"
    },
    {
      "cell_type": "code",
      "metadata": {
        "id": "gJLj7EZn-R_5",
        "colab": {
          "base_uri": "https://localhost:8080/"
        },
        "outputId": "4f84eee3-fd06-4c80-df35-c53a0f9e45c2"
      },
      "source": [
        "aapl.calculate_annualized_return()"
      ],
      "id": "gJLj7EZn-R_5",
      "execution_count": 755,
      "outputs": [
        {
          "output_type": "execute_result",
          "data": {
            "text/plain": [
              "3.183070304325062"
            ]
          },
          "metadata": {},
          "execution_count": 755
        }
      ]
    },
    {
      "cell_type": "code",
      "metadata": {
        "id": "CvpZ_1Pq-R_6",
        "colab": {
          "base_uri": "https://localhost:8080/"
        },
        "outputId": "b8362048-346b-4ac5-e4d6-f6c2b1411353"
      },
      "source": [
        "aapl.calculate_annualized_volatility()"
      ],
      "id": "CvpZ_1Pq-R_6",
      "execution_count": 756,
      "outputs": [
        {
          "output_type": "execute_result",
          "data": {
            "text/plain": [
              "0.2745860615156591"
            ]
          },
          "metadata": {},
          "execution_count": 756
        }
      ]
    },
    {
      "cell_type": "markdown",
      "metadata": {
        "id": "a73QHCEA-R_6"
      },
      "source": [
        "##### Task 6: Simple regression: AAPL = beta*SPY + epsilon"
      ],
      "id": "a73QHCEA-R_6"
    },
    {
      "cell_type": "code",
      "metadata": {
        "id": "q28wT-Oo-R_6",
        "colab": {
          "base_uri": "https://localhost:8080/"
        },
        "outputId": "3536a7dc-d168-47d3-d913-550fb30cbdef"
      },
      "source": [
        "spy_df = pd.read_csv('data/SPY.csv', parse_dates=['Date'])\n",
        "spy_df.set_index('Date', inplace=True)\n",
        "spy_df.index.shape"
      ],
      "id": "q28wT-Oo-R_6",
      "execution_count": 757,
      "outputs": [
        {
          "output_type": "execute_result",
          "data": {
            "text/plain": [
              "(1278,)"
            ]
          },
          "metadata": {},
          "execution_count": 757
        }
      ]
    },
    {
      "cell_type": "code",
      "metadata": {
        "id": "E7Q7meMF-R_6",
        "colab": {
          "base_uri": "https://localhost:8080/",
          "height": 235
        },
        "outputId": "e06e7fb0-2e15-4f98-e64e-a9bc7ba9918b"
      },
      "source": [
        "spy_df.head()"
      ],
      "id": "E7Q7meMF-R_6",
      "execution_count": 758,
      "outputs": [
        {
          "output_type": "execute_result",
          "data": {
            "text/html": [
              "<div>\n",
              "<style scoped>\n",
              "    .dataframe tbody tr th:only-of-type {\n",
              "        vertical-align: middle;\n",
              "    }\n",
              "\n",
              "    .dataframe tbody tr th {\n",
              "        vertical-align: top;\n",
              "    }\n",
              "\n",
              "    .dataframe thead th {\n",
              "        text-align: right;\n",
              "    }\n",
              "</style>\n",
              "<table border=\"1\" class=\"dataframe\">\n",
              "  <thead>\n",
              "    <tr style=\"text-align: right;\">\n",
              "      <th></th>\n",
              "      <th>Open</th>\n",
              "      <th>High</th>\n",
              "      <th>Low</th>\n",
              "      <th>Adj Close</th>\n",
              "      <th>Volume</th>\n",
              "    </tr>\n",
              "    <tr>\n",
              "      <th>Date</th>\n",
              "      <th></th>\n",
              "      <th></th>\n",
              "      <th></th>\n",
              "      <th></th>\n",
              "      <th></th>\n",
              "    </tr>\n",
              "  </thead>\n",
              "  <tbody>\n",
              "    <tr>\n",
              "      <th>2016-09-01</th>\n",
              "      <td>217.369995</td>\n",
              "      <td>217.729996</td>\n",
              "      <td>216.029999</td>\n",
              "      <td>0.000000</td>\n",
              "      <td>97844200</td>\n",
              "    </tr>\n",
              "    <tr>\n",
              "      <th>2016-09-02</th>\n",
              "      <td>218.389999</td>\n",
              "      <td>218.869995</td>\n",
              "      <td>217.699997</td>\n",
              "      <td>198.384659</td>\n",
              "      <td>79293900</td>\n",
              "    </tr>\n",
              "    <tr>\n",
              "      <th>2016-09-06</th>\n",
              "      <td>218.699997</td>\n",
              "      <td>219.119995</td>\n",
              "      <td>217.860001</td>\n",
              "      <td>198.984268</td>\n",
              "      <td>56702100</td>\n",
              "    </tr>\n",
              "    <tr>\n",
              "      <th>2016-09-07</th>\n",
              "      <td>218.839996</td>\n",
              "      <td>219.220001</td>\n",
              "      <td>218.300003</td>\n",
              "      <td>198.966125</td>\n",
              "      <td>76554900</td>\n",
              "    </tr>\n",
              "    <tr>\n",
              "      <th>2016-09-08</th>\n",
              "      <td>218.619995</td>\n",
              "      <td>218.940002</td>\n",
              "      <td>218.149994</td>\n",
              "      <td>198.511871</td>\n",
              "      <td>74102900</td>\n",
              "    </tr>\n",
              "  </tbody>\n",
              "</table>\n",
              "</div>"
            ],
            "text/plain": [
              "                  Open        High         Low   Adj Close    Volume\n",
              "Date                                                                \n",
              "2016-09-01  217.369995  217.729996  216.029999    0.000000  97844200\n",
              "2016-09-02  218.389999  218.869995  217.699997  198.384659  79293900\n",
              "2016-09-06  218.699997  219.119995  217.860001  198.984268  56702100\n",
              "2016-09-07  218.839996  219.220001  218.300003  198.966125  76554900\n",
              "2016-09-08  218.619995  218.940002  218.149994  198.511871  74102900"
            ]
          },
          "metadata": {},
          "execution_count": 758
        }
      ]
    },
    {
      "cell_type": "code",
      "metadata": {
        "colab": {
          "base_uri": "https://localhost:8080/",
          "height": 285
        },
        "id": "s5_uh8r1wfI4",
        "outputId": "c81b8797-dfb7-45c6-d792-72cb4149b793"
      },
      "source": [
        "spy = stock_analysis(spy_df)\n",
        "spy_processed_df = spy.preprocess_data()\n",
        "spy = stock_analysis(spy_processed_df)\n",
        "spy.calculate_return()\n",
        "spy.visualization('Return','Return')"
      ],
      "id": "s5_uh8r1wfI4",
      "execution_count": 759,
      "outputs": [
        {
          "output_type": "display_data",
          "data": {
            "image/png": "[encoded data removed]",
            "text/plain": [
              "<Figure size 432x288 with 1 Axes>"
            ]
          },
          "metadata": {
            "needs_background": "light"
          }
        }
      ]
    },
    {
      "cell_type": "code",
      "metadata": {
        "colab": {
          "base_uri": "https://localhost:8080/",
          "height": 80
        },
        "id": "eeq6NNxd2Sff",
        "outputId": "39abfb75-00a9-4c7c-88b7-e2e4b6f25ae2"
      },
      "source": [
        "spy.df[spy.df.isna().any(axis=1)]"
      ],
      "id": "eeq6NNxd2Sff",
      "execution_count": 760,
      "outputs": [
        {
          "output_type": "execute_result",
          "data": {
            "text/html": [
              "<div>\n",
              "<style scoped>\n",
              "    .dataframe tbody tr th:only-of-type {\n",
              "        vertical-align: middle;\n",
              "    }\n",
              "\n",
              "    .dataframe tbody tr th {\n",
              "        vertical-align: top;\n",
              "    }\n",
              "\n",
              "    .dataframe thead th {\n",
              "        text-align: right;\n",
              "    }\n",
              "</style>\n",
              "<table border=\"1\" class=\"dataframe\">\n",
              "  <thead>\n",
              "    <tr style=\"text-align: right;\">\n",
              "      <th></th>\n",
              "      <th>Open</th>\n",
              "      <th>High</th>\n",
              "      <th>Low</th>\n",
              "      <th>Adj Close</th>\n",
              "      <th>Volume</th>\n",
              "      <th>Return</th>\n",
              "    </tr>\n",
              "    <tr>\n",
              "      <th>Date</th>\n",
              "      <th></th>\n",
              "      <th></th>\n",
              "      <th></th>\n",
              "      <th></th>\n",
              "      <th></th>\n",
              "      <th></th>\n",
              "    </tr>\n",
              "  </thead>\n",
              "  <tbody>\n",
              "  </tbody>\n",
              "</table>\n",
              "</div>"
            ],
            "text/plain": [
              "Empty DataFrame\n",
              "Columns: [Open, High, Low, Adj Close, Volume, Return]\n",
              "Index: []"
            ]
          },
          "metadata": {},
          "execution_count": 760
        }
      ]
    },
    {
      "cell_type": "code",
      "metadata": {
        "id": "4FHzIjWExTNF"
      },
      "source": [
        "aapl_ret = aapl.df['Return'].values[1:].reshape((-1,1))\n",
        "spy_ret = spy.df['Return'].values[1:].reshape((-1,1))"
      ],
      "id": "4FHzIjWExTNF",
      "execution_count": 761,
      "outputs": []
    },
    {
      "cell_type": "code",
      "metadata": {
        "id": "M4mDbn1awqbB"
      },
      "source": [
        "reg = LinearRegression().fit(aapl_ret, spy_ret, )"
      ],
      "id": "M4mDbn1awqbB",
      "execution_count": 762,
      "outputs": []
    },
    {
      "cell_type": "code",
      "metadata": {
        "colab": {
          "base_uri": "https://localhost:8080/"
        },
        "id": "p0Lb4h-yx-GX",
        "outputId": "28ae9691-2b5c-4cc8-e929-864d5d31a9d0"
      },
      "source": [
        "reg.coef_"
      ],
      "id": "p0Lb4h-yx-GX",
      "execution_count": 763,
      "outputs": [
        {
          "output_type": "execute_result",
          "data": {
            "text/plain": [
              "array([[0.39034471]])"
            ]
          },
          "metadata": {},
          "execution_count": 763
        }
      ]
    },
    {
      "cell_type": "code",
      "metadata": {
        "colab": {
          "base_uri": "https://localhost:8080/"
        },
        "id": "8KPLipC3yKFJ",
        "outputId": "a5e9f530-1737-470b-c7d4-87ba8f52cac1"
      },
      "source": [
        "reg.intercept_"
      ],
      "id": "8KPLipC3yKFJ",
      "execution_count": 764,
      "outputs": [
        {
          "output_type": "execute_result",
          "data": {
            "text/plain": [
              "array([0.60970698])"
            ]
          },
          "metadata": {},
          "execution_count": 764
        }
      ]
    },
    {
      "cell_type": "markdown",
      "metadata": {
        "id": "dBxtW-jV-R_6"
      },
      "source": [
        "Ans: (.39, .61)"
      ],
      "id": "dBxtW-jV-R_6"
    },
    {
      "cell_type": "markdown",
      "metadata": {
        "id": "EQsJUBdl-R_6"
      },
      "source": [
        "#### Additional Points:"
      ],
      "id": "EQsJUBdl-R_6"
    },
    {
      "cell_type": "markdown",
      "metadata": {
        "id": "nSTBE6ej-R_7"
      },
      "source": [
        "##### What additional EDA (Visualization, Statistical Analysis...) can you perform on the dataset?"
      ],
      "id": "nSTBE6ej-R_7"
    },
    {
      "cell_type": "markdown",
      "metadata": {
        "id": "KaGCHQop-R_7"
      },
      "source": [
        ""
      ],
      "id": "KaGCHQop-R_7"
    },
    {
      "cell_type": "markdown",
      "metadata": {
        "id": "wZQX8sTG-R_7"
      },
      "source": [
        "##### What are the assumptions for a linear model?"
      ],
      "id": "wZQX8sTG-R_7"
    },
    {
      "cell_type": "markdown",
      "metadata": {
        "id": "j57sTCH3-R_7"
      },
      "source": [
        ""
      ],
      "id": "j57sTCH3-R_7"
    },
    {
      "cell_type": "markdown",
      "metadata": {
        "id": "Z4XIW3Z2-R_8"
      },
      "source": [
        "##### You have fit a single factor (SPY) model. What are the advantages/disadvantages of this stucture?"
      ],
      "id": "Z4XIW3Z2-R_8"
    },
    {
      "cell_type": "markdown",
      "metadata": {
        "id": "3vk_7-FZ-R_8"
      },
      "source": [
        ""
      ],
      "id": "3vk_7-FZ-R_8"
    }
  ]
}